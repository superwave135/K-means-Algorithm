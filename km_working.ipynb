{
 "cells": [
  {
   "cell_type": "code",
   "execution_count": 1,
   "metadata": {},
   "outputs": [
    {
     "name": "stdout",
     "output_type": "stream",
     "text": [
      "             0        1\n",
      "0     -84.5152  19.1264\n",
      "1     -76.6465  20.2474\n",
      "2     -76.6615  20.3420\n",
      "3     -76.6415  20.2342\n",
      "4     -76.6472  20.2203\n",
      "...        ...      ...\n",
      "16254 -87.7532  14.8606\n",
      "16255 -75.6542   9.8984\n",
      "16256 -80.6016  22.0641\n",
      "16257 -80.3845  21.9461\n",
      "16258 -75.4638  10.1300\n",
      "\n",
      "[16259 rows x 2 columns] (16259, 2)\n"
     ]
    }
   ],
   "source": [
    "import pandas as pd\n",
    "import numpy as np\n",
    "\n",
    "x = pd.read_csv('2010825.txt', delimiter = \"\\t\", header = None)\n",
    "print(x, x.shape)"
   ]
  },
  {
   "cell_type": "code",
   "execution_count": 8,
   "metadata": {},
   "outputs": [
    {
     "name": "stdout",
     "output_type": "stream",
     "text": [
      "(1, 2)\n",
      "[[-84.5152  19.1264   0.    ]\n",
      " [-76.6465  20.2474   0.    ]\n",
      " [-76.6615  20.342    0.    ]\n",
      " ...\n",
      " [-80.6016  22.0641   0.    ]\n",
      " [-80.3845  21.9461   0.    ]\n",
      " [-75.4638  10.13     0.    ]] (16259, 3)\n"
     ]
    }
   ],
   "source": [
    "M = np.array([[0,0]])\n",
    "print(M.shape)\n",
    "col_3 = np.zeros(16259).reshape(16259, 1)\n",
    "# print(col_3.shape)\n",
    "\n",
    "# Stacking the two arrays horizontally \n",
    "X = np.concatenate((x, col_3), axis=1)\n",
    "print(X, X.shape)\n"
   ]
  },
  {
   "cell_type": "code",
   "execution_count": null,
   "metadata": {},
   "outputs": [],
   "source": [
    "# part F to compute error 9.73\n",
    "\n",
    "centroid_L2 = {1:0, 2:0, 3:0, 4:0, 5:0}\n",
    "centroid_XY = {1:[], 2:[], 3:[], 4:[], 5:[]}\n",
    "# centroid_L2_counter = {1:0, 2:0, 3:0, 4:0, 5:0}\n",
    "M = np.array([[0,0]])\n",
    "# M=np.copy(X[0:5,0:X.shape[1]-1])\n",
    "\n",
    "for idx, i in enumerate(X[:,0:2]):  # iterate over 10 rows of X, col 1 and col 2\n",
    "\n",
    "    l2_norm = np.sqrt(np.square(i[0] - M[:,0]) + np.square(i[1] - M[:,1])) # get the l2 norm value\n",
    "    centroid_L2[np.argmin(l2_norm)+1] += np.amin(l2_norm)\n",
    "    centroid_XY[np.argmin(l2_norm)+1].append(i)\n",
    "    X[idx, 2] = np.argmin(l2_norm) \n",
    "#     centroid_L2_counter[np.argmin(l2_norm)+1] += 1\n",
    "\n",
    "print(f'X first 15 rows:\\n{X[:15, ]}')\n",
    "print()\n",
    "print(f'X shape:{X.shape}')\n",
    "# print(f'centroid_L2\\n{centroid_L2}')\n",
    "print()\n",
    "# print(f'centroid_L2_counter\\n{centroid_L2_counter}\\n') \n",
    "\n",
    "c1_coord_update = np.array([np.mean([i[0] for i in centroid_XY.get(1)]), np.mean([i[1] for i in centroid_XY.get(1)])])\n",
    "c2_coord_update = np.array([np.mean([i[0] for i in centroid_XY.get(2)]), np.mean([i[1] for i in centroid_XY.get(2)])])\n",
    "c3_coord_update = np.array([np.mean([i[0] for i in centroid_XY.get(3)]), np.mean([i[1] for i in centroid_XY.get(3)])])\n",
    "c4_coord_update = np.array([np.mean([i[0] for i in centroid_XY.get(4)]), np.mean([i[1] for i in centroid_XY.get(4)])])\n",
    "c5_coord_update = np.array([np.mean([i[0] for i in centroid_XY.get(5)]), np.mean([i[1] for i in centroid_XY.get(5)])])\n",
    "print(c1_coord_update, c2_coord_update, c3_coord_update, c4_coord_update, c5_coord_update)"
   ]
  },
  {
   "cell_type": "code",
   "execution_count": 6,
   "metadata": {},
   "outputs": [
    {
     "name": "stdout",
     "output_type": "stream",
     "text": [
      "X:\n",
      "[[-84.5152  19.1264   0.    ]\n",
      " [-76.6465  20.2474   0.    ]\n",
      " [-76.6615  20.342    0.    ]\n",
      " [-76.6415  20.2342   0.    ]\n",
      " [-76.6472  20.2203   0.    ]\n",
      " [-76.6409  20.2693   0.    ]\n",
      " [-64.9945   9.5567   0.    ]\n",
      " [-83.1603  23.0362   0.    ]\n",
      " [-82.5861  23.6002   0.    ]\n",
      " [-80.3366  22.236    0.    ]], (16259, 3)\n",
      "M:\n",
      " [[0 0]]\n",
      "(16259, 2)\n"
     ]
    },
    {
     "data": {
      "text/plain": [
       "86.62495736289799"
      ]
     },
     "execution_count": 6,
     "metadata": {},
     "output_type": "execute_result"
    }
   ],
   "source": [
    "def errCompute(X, M):\n",
    "\n",
    "    l2 = np.linalg.norm(X[:, :2] - M[X[:, 2].astype(int)], axis=1)\n",
    "    print(M[X[:, 2].astype(int)].shape)\n",
    "    return np.mean(l2)\n",
    "\n",
    "print(f'X:\\n{X[:10, ]}, {X.shape}')\n",
    "# M=np.copy(X[0:5,0:X.shape[1]-1])\n",
    "print(f'M:\\n', M)\n",
    "errCompute(X, M)"
   ]
  },
  {
   "cell_type": "code",
   "execution_count": 9,
   "metadata": {},
   "outputs": [
    {
     "name": "stdout",
     "output_type": "stream",
     "text": [
      "M at the start:\n",
      " [[-84.5152  19.1264]\n",
      " [-76.6465  20.2474]\n",
      " [-76.6615  20.342 ]\n",
      " [-76.6415  20.2342]\n",
      " [-76.6472  20.2203]]]\n",
      "\n",
      "M shape: 5\n",
      "\n",
      "M after 1 epoch:\n",
      "[[-90.49390051  21.02879994]\n",
      " [-76.56876923  20.2852    ]\n",
      " [-78.4862675   23.80770642]\n",
      " [-75.77208511  20.08975213]\n",
      " [-72.1762039    8.76110395]]\n",
      "\n",
      "M after 2 epoch:\n",
      "[[-95.08619499  20.04095909]\n",
      " [-77.90867745  20.05257663]\n",
      " [-81.47717345  24.89637199]\n",
      " [-75.21811255  16.11175059]\n",
      " [-73.0128578    8.14005597]]\n",
      "\n",
      "M after 3 epoch:\n",
      "[[-97.67826985  20.53838907]\n",
      " [-80.09429143  19.71696707]\n",
      " [-82.3028632   25.2581391 ]\n",
      " [-79.55338965  13.30936534]\n",
      " [-72.36853251   7.86863221]]\n",
      "\n",
      "M after 4 epoch:\n",
      "[[-99.76214666  21.85407224]\n",
      " [-79.05754415  21.22876499]\n",
      " [-82.37493854  25.54742293]\n",
      " [-83.88645672  13.03292921]\n",
      " [-71.09123486   7.72165806]]\n",
      "\n",
      "M after 5 epoch:\n",
      "[[-101.05596915   22.77247799]\n",
      " [ -79.11839733   21.19946827]\n",
      " [ -82.56420437   25.78578055]\n",
      " [ -85.58298424   13.33401744]\n",
      " [ -71.32789807    7.79187594]]\n",
      "\n",
      "M after 6 epoch:\n",
      "[[-103.17351806   23.94399284]\n",
      " [ -79.24684044   21.11509302]\n",
      " [ -82.58146558   25.95045777]\n",
      " [ -87.44655735   14.34432827]\n",
      " [ -71.51898671    7.97835378]]\n",
      "\n",
      "M after 7 epoch:\n",
      "[[-104.46084877   24.85056108]\n",
      " [ -79.27292598   21.07386063]\n",
      " [ -82.56128224   26.00835133]\n",
      " [ -88.60990764   14.91235464]\n",
      " [ -71.88960872    8.11798541]]\n",
      "\n",
      "M after 8 epoch:\n",
      "[[-104.79251496   25.12297212]\n",
      " [ -79.34772342   21.17329214]\n",
      " [ -82.57308316   26.01939313]\n",
      " [ -88.93949721   15.04044161]\n",
      " [ -72.06248001    8.18903737]]\n",
      "\n",
      "M after 9 epoch:\n",
      "[[-104.92079824   25.21717377]\n",
      " [ -79.37763187   21.20669051]\n",
      " [ -82.59360727   26.03944295]\n",
      " [ -89.04242689   15.08545434]\n",
      " [ -72.10111525    8.20441676]]\n",
      "\n",
      "M after 10 epoch:\n",
      "[[-105.08435725   25.27031419]\n",
      " [ -79.38822752   21.22238211]\n",
      " [ -82.65125942   26.05137639]\n",
      " [ -89.11196067   15.11998986]\n",
      " [ -72.12722058    8.21118515]]\n",
      "\n",
      "M after 11 epoch:\n",
      "[[-105.17992325   25.31630813]\n",
      " [ -79.39343549   21.22978719]\n",
      " [ -82.67564625   26.05659239]\n",
      " [ -89.15631317   15.13856811]\n",
      " [ -72.13285047    8.21465361]]\n",
      "\n",
      "M after 12 epoch:\n",
      "[[-105.19291965   25.32818512]\n",
      " [ -79.39554591   21.23163087]\n",
      " [ -82.67643361   26.0588035 ]\n",
      " [ -89.16625952   15.14265694]\n",
      " [ -72.13285047    8.21465361]]\n",
      "\n",
      "M after 13 epoch:\n",
      "[[-105.19604652   25.33132344]\n",
      " [ -79.39658289   21.2320189 ]\n",
      " [ -82.67641664   26.05973015]\n",
      " [ -89.16882233   15.14357792]\n",
      " [ -72.13285047    8.21465361]]\n",
      "\n",
      "M after 14 epoch:\n",
      "[[-105.19604652   25.33132344]\n",
      " [ -79.39759975   21.23242094]\n",
      " [ -82.67641597   26.06064535]\n",
      " [ -89.16882233   15.14357792]\n",
      " [ -72.13285047    8.21465361]]\n",
      "\n",
      "M after 15 epoch:\n",
      "[[-105.19604652   25.33132344]\n",
      " [ -79.39863196   21.23281229]\n",
      " [ -82.67640192   26.06156976]\n",
      " [ -89.16882233   15.14357792]\n",
      " [ -72.13285047    8.21465361]]\n",
      "\n",
      "M after 16 epoch:\n",
      "[[-105.19604652   25.33132344]\n",
      " [ -79.39863196   21.23281229]\n",
      " [ -82.67640192   26.06156976]\n",
      " [ -89.16882233   15.14357792]\n",
      " [ -72.13285047    8.21465361]]\n",
      "\n",
      "Centroids stablized after 15 epochs\n"
     ]
    }
   ],
   "source": [
    "## K-means computation function starts here ... \n",
    "# print(f'X before:\\n {X[:15]}\\n')\n",
    "M = np.copy(X[0:5,0:X.shape[1]-1])\n",
    "print(f'M at the start:\\n {M}]\\n')\n",
    "print(f'M shape: {M.shape[0]}\\n')\n",
    "\n",
    "for count in range(30):\n",
    "    centroid_XY = {i:[] for i in range(0,M.shape[0])} # create dict for xy_coords, K = M.shape[0]\n",
    "    for idx, i in enumerate(X[:,0:2]):                # iterate over 10 rows of X, col 1 and col 2\n",
    "        l2_norm = np.sqrt(np.square(i[0] - M[:,0]) + np.square(i[1] - M[:,1])) # get the l2 norm value\n",
    "        X[idx, 2] = np.argmin(l2_norm)                                         # populates col_2 with cluster IDs \n",
    "        centroid_XY[np.argmin(l2_norm)].append(i)                              # append xy_coord to their k-v pair\n",
    "#### ------------------------------------------------------------------ #####\n",
    "    old = M                                            # assign current M centroid matrix to old var b4 update M\n",
    "    yoyo = [np.array(i) for i in centroid_XY.values()] # extract xy coords of each centroid into a list\n",
    "    M = np.array([0,0])  # dummy array for vstacking purpose\n",
    "    for xy in yoyo:      # for each pair of xy_coord in list\n",
    "        x_pts = xy.T[0]  # get all x_coords of a centroid\n",
    "        y_pts = xy.T[1]  # get all y_coords of a centroid\n",
    "        row = np.array([np.mean(x_pts), np.mean(y_pts)]) # assign xy_mean pairs to row\n",
    "        M = np.vstack((M, row)) # create M matrix\n",
    "    M = M[1:]                   # get rid of dummy array\n",
    "#### ------------------------------------------------------------------ #####\n",
    "    print(f'M after {count+1} epoch:\\n{M}\\n')\n",
    "    \n",
    "    if np.array_equal(old, M):  # if no change in centroids' XY coords, break loop \n",
    "        print(f'Centroids stablized after {count} epochs')\n",
    "        break\n",
    "# print(f\"X after:\\n {X[:15]}\")"
   ]
  },
  {
   "cell_type": "code",
   "execution_count": null,
   "metadata": {},
   "outputs": [],
   "source": [
    "# centroid_XY\n",
    "yoyo = [np.array(i) for i in centroid_XY.values()]\n",
    "i=0\n",
    "haha = np.array([0,0])\n",
    "for xy in yoyo:\n",
    "    x_pts = xy.T[0]\n",
    "    y_pts = xy.T[1]\n",
    "    print(f'yoyo[{i}]:\\n{xy}\\n')\n",
    "    print(f'x_pts: {x_pts}')\n",
    "    print(f'y_pts: {y_pts}\\n')\n",
    "    print(f'x_mean: {np.mean(x_pts)}')\n",
    "    print(f'y_mean: {np.mean(y_pts)}\\n')\n",
    "    i+=1\n",
    "    row = np.array([np.mean(x_pts), np.mean(y_pts)])\n",
    "    haha = np.vstack((haha, row))\n",
    "print(haha[1:])"
   ]
  },
  {
   "cell_type": "code",
   "execution_count": 10,
   "metadata": {},
   "outputs": [
    {
     "name": "stdout",
     "output_type": "stream",
     "text": [
      "X:\n",
      "[[-84.5152  19.1264   1.    ]\n",
      " [-76.6465  20.2474   1.    ]\n",
      " [-76.6615  20.342    1.    ]\n",
      " [-76.6415  20.2342   1.    ]\n",
      " [-76.6472  20.2203   1.    ]\n",
      " [-76.6409  20.2693   1.    ]\n",
      " [-64.9945   9.5567   4.    ]\n",
      " [-83.1603  23.0362   2.    ]\n",
      " [-82.5861  23.6002   2.    ]\n",
      " [-80.3366  22.236    1.    ]], (16259, 3)\n",
      "M:\n",
      " [[-105.19604652   25.33132344]\n",
      " [ -79.39863196   21.23281229]\n",
      " [ -82.67640192   26.06156976]\n",
      " [ -89.16882233   15.14357792]\n",
      " [ -72.13285047    8.21465361]]\n"
     ]
    },
    {
     "data": {
      "text/plain": [
       "4.006100077883563"
      ]
     },
     "execution_count": 10,
     "metadata": {},
     "output_type": "execute_result"
    }
   ],
   "source": [
    "def errCompute(X, M):\n",
    "\n",
    "    l2 = np.linalg.norm(X[:, :2] - M[X[:, 2].astype(int)], axis=1)\n",
    "    return np.mean(l2)\n",
    "\n",
    "print(f'X:\\n{X[:10, ]}, {X.shape}')\n",
    "print(f'M:\\n',M)\n",
    "errCompute(X, M)  # "
   ]
  },
  {
   "cell_type": "code",
   "execution_count": null,
   "metadata": {},
   "outputs": [],
   "source": [
    "dict = {0: [111, 222, 333, 444], 1: [1111, 2222, 3333, 4444], 2: [1, 2, 3, 4]} \n",
    "\n",
    "yoyo = [np.array(i) for i in dict.values()]\n",
    "print(f'yoyo: {yoyo}')\n",
    "print(f'yoyo type: {type(yoyo)}')\n",
    "\n",
    "np.mean(yoyo[0])"
   ]
  },
  {
   "cell_type": "code",
   "execution_count": null,
   "metadata": {},
   "outputs": [],
   "source": []
  }
 ],
 "metadata": {
  "kernelspec": {
   "display_name": "Python 3",
   "language": "python",
   "name": "python3"
  },
  "language_info": {
   "codemirror_mode": {
    "name": "ipython",
    "version": 3
   },
   "file_extension": ".py",
   "mimetype": "text/x-python",
   "name": "python",
   "nbconvert_exporter": "python",
   "pygments_lexer": "ipython3",
   "version": "3.8.6"
  }
 },
 "nbformat": 4,
 "nbformat_minor": 4
}
